{
 "cells": [
  {
   "cell_type": "markdown",
   "id": "d362d75e",
   "metadata": {},
   "source": [
    "# COVID19-FLU DIAGNOSTIC DATASET/MODEL"
   ]
  },
  {
   "cell_type": "markdown",
   "id": "55e97428",
   "metadata": {},
   "source": [
    "## 3.1 BASE GRID SEARCH CODE"
   ]
  },
  {
   "cell_type": "code",
   "execution_count": 9,
   "id": "94af769a",
   "metadata": {},
   "outputs": [],
   "source": [
    "from sklearn.ensemble import ExtraTreesClassifier\n",
    "from sklearn.model_selection import GridSearchCV\n",
    "import time\n",
    "from sklearn.metrics import classification_report\n",
    "import pandas as pd"
   ]
  },
  {
   "cell_type": "code",
   "execution_count": 7,
   "id": "791c8b84",
   "metadata": {},
   "outputs": [],
   "source": [
    "def simple_grid_search(\n",
    "X_train, y_train, X_test, y_test, feature_engineering_pipeline\n",
    "):\n",
    "    \"\"\"\n",
    "    Simple helper function to grid seach an ExtraTreesClassifier model and print out a classification report\n",
    "    for the best model where best here is defined as having \n",
    "    the best cross-validated accuracy on the training set\"\"\"\n",
    "    \n",
    "    params = { # some simple parameters to grid search\n",
    "        \"max_depth\": [10, None],\n",
    "        \"n_estimators\": [10, 50, 100, 500],\n",
    "        \"criterion\": [\"gini\", \"entropy\"],\n",
    "    }\n",
    "    base_model = ExtraTreesClassifier(random_state=42) # initialize the model\n",
    "    model_grid_search = GridSearchCV( # initialize the grid search\n",
    "        estimator=base_model, #  the model to grid search\n",
    "        param_grid=params, # the parameters to grid search over\n",
    "        cv=3,  # the number of folds to use for cross-validation\n",
    "        n_jobs=-1,  # the number of jobs to run in parallel\n",
    "        verbose=1)  # print out the progress of the grid search\n",
    "    start_time = time.time() # start the timer\n",
    "    # fit FE pipeline to training data and use it to transform test data\n",
    "    if feature_engineering_pipeline:\n",
    "        parsed_X_train = feature_engineering_pipeline.fit_transform(X_train)\n",
    "        parsed_X_test = feature_engineering_pipeline.transform(X_test)\n",
    "    else:\n",
    "        parsed_X_train = X_train\n",
    "        parsed_X_test = X_test\n",
    "    parse_time = time.time() # stop the timer\n",
    "    print(\"Parsed data in {:.2f} seconds\".format(parse_time - start_time)) # print out the time it took to parse the data\n",
    "    model_grid_search.fit(parsed_X_train, y_train) # fit the model to the parsed training data\n",
    "    fit_time = time.time() # stop the timer\n",
    "    print(\"Fitted model in {:.2f} seconds\".format(fit_time - parse_time)) # print out the time it took to fit the model\n",
    "    best_model =  model_grid_search.best_estimator_ # get the best model\n",
    "    print(classification_report(y_true=y_test,\n",
    "                                y_pred=best_model.predict(parsed_X_test))) # print out the classification report\n",
    "    end_time = time.time() # stop the timer\n",
    "    print(\"Total time: {:.2f} seconds\".format(end_time - start_time)) # print out the time it took to run the script\n",
    "    return best_model # return the best model|"
   ]
  },
  {
   "cell_type": "code",
   "execution_count": 40,
   "id": "f1423b6b",
   "metadata": {},
   "outputs": [
    {
     "data": {
      "text/html": [
       "<div>\n",
       "<style scoped>\n",
       "    .dataframe tbody tr th:only-of-type {\n",
       "        vertical-align: middle;\n",
       "    }\n",
       "\n",
       "    .dataframe tbody tr th {\n",
       "        vertical-align: top;\n",
       "    }\n",
       "\n",
       "    .dataframe thead th {\n",
       "        text-align: right;\n",
       "    }\n",
       "</style>\n",
       "<table border=\"1\" class=\"dataframe\">\n",
       "  <thead>\n",
       "    <tr style=\"text-align: right;\">\n",
       "      <th></th>\n",
       "      <th>Diagnosis</th>\n",
       "      <th>InitialPCRDiagnosis</th>\n",
       "      <th>Age</th>\n",
       "      <th>Sex</th>\n",
       "      <th>neutrophil</th>\n",
       "      <th>serumLevelsOfWhiteBloodCell</th>\n",
       "      <th>lymphocytes</th>\n",
       "      <th>CReactiveProteinLevels</th>\n",
       "      <th>DurationOfIllness</th>\n",
       "      <th>CTscanResults</th>\n",
       "      <th>RiskFactors</th>\n",
       "      <th>GroundGlassOpacity</th>\n",
       "      <th>Diarrhea</th>\n",
       "      <th>Fever</th>\n",
       "      <th>Coughing</th>\n",
       "      <th>ShortnessOfBreath</th>\n",
       "      <th>SoreThroat</th>\n",
       "      <th>NauseaVomitting</th>\n",
       "      <th>Temperature</th>\n",
       "      <th>Fatigue</th>\n",
       "    </tr>\n",
       "  </thead>\n",
       "  <tbody>\n",
       "    <tr>\n",
       "      <th>0</th>\n",
       "      <td>H1N1</td>\n",
       "      <td>NaN</td>\n",
       "      <td>67.0</td>\n",
       "      <td>F</td>\n",
       "      <td>NaN</td>\n",
       "      <td>NaN</td>\n",
       "      <td>NaN</td>\n",
       "      <td>NaN</td>\n",
       "      <td>NaN</td>\n",
       "      <td>NaN</td>\n",
       "      <td>NaN</td>\n",
       "      <td>NaN</td>\n",
       "      <td>NaN</td>\n",
       "      <td>Yes</td>\n",
       "      <td>Yes</td>\n",
       "      <td>NaN</td>\n",
       "      <td>No</td>\n",
       "      <td>NaN</td>\n",
       "      <td>38.111111</td>\n",
       "      <td>No</td>\n",
       "    </tr>\n",
       "    <tr>\n",
       "      <th>1</th>\n",
       "      <td>H1N1</td>\n",
       "      <td>NaN</td>\n",
       "      <td>29.0</td>\n",
       "      <td>M</td>\n",
       "      <td>NaN</td>\n",
       "      <td>NaN</td>\n",
       "      <td>NaN</td>\n",
       "      <td>NaN</td>\n",
       "      <td>NaN</td>\n",
       "      <td>NaN</td>\n",
       "      <td>NaN</td>\n",
       "      <td>NaN</td>\n",
       "      <td>NaN</td>\n",
       "      <td>NaN</td>\n",
       "      <td>NaN</td>\n",
       "      <td>NaN</td>\n",
       "      <td>NaN</td>\n",
       "      <td>NaN</td>\n",
       "      <td>NaN</td>\n",
       "      <td>NaN</td>\n",
       "    </tr>\n",
       "    <tr>\n",
       "      <th>2</th>\n",
       "      <td>H1N1</td>\n",
       "      <td>NaN</td>\n",
       "      <td>22.0</td>\n",
       "      <td>F</td>\n",
       "      <td>NaN</td>\n",
       "      <td>NaN</td>\n",
       "      <td>NaN</td>\n",
       "      <td>NaN</td>\n",
       "      <td>NaN</td>\n",
       "      <td>NaN</td>\n",
       "      <td>NaN</td>\n",
       "      <td>NaN</td>\n",
       "      <td>NaN</td>\n",
       "      <td>NaN</td>\n",
       "      <td>NaN</td>\n",
       "      <td>NaN</td>\n",
       "      <td>NaN</td>\n",
       "      <td>NaN</td>\n",
       "      <td>NaN</td>\n",
       "      <td>NaN</td>\n",
       "    </tr>\n",
       "    <tr>\n",
       "      <th>3</th>\n",
       "      <td>H1N1</td>\n",
       "      <td>NaN</td>\n",
       "      <td>20.0</td>\n",
       "      <td>F</td>\n",
       "      <td>NaN</td>\n",
       "      <td>NaN</td>\n",
       "      <td>NaN</td>\n",
       "      <td>NaN</td>\n",
       "      <td>NaN</td>\n",
       "      <td>NaN</td>\n",
       "      <td>immuno</td>\n",
       "      <td>NaN</td>\n",
       "      <td>NaN</td>\n",
       "      <td>Yes</td>\n",
       "      <td>Yes</td>\n",
       "      <td>NaN</td>\n",
       "      <td>No</td>\n",
       "      <td>NaN</td>\n",
       "      <td>36.555556</td>\n",
       "      <td>Yes</td>\n",
       "    </tr>\n",
       "    <tr>\n",
       "      <th>4</th>\n",
       "      <td>H1N1</td>\n",
       "      <td>NaN</td>\n",
       "      <td>21.0</td>\n",
       "      <td>M</td>\n",
       "      <td>NaN</td>\n",
       "      <td>NaN</td>\n",
       "      <td>NaN</td>\n",
       "      <td>NaN</td>\n",
       "      <td>NaN</td>\n",
       "      <td>NaN</td>\n",
       "      <td>NaN</td>\n",
       "      <td>NaN</td>\n",
       "      <td>NaN</td>\n",
       "      <td>NaN</td>\n",
       "      <td>NaN</td>\n",
       "      <td>NaN</td>\n",
       "      <td>NaN</td>\n",
       "      <td>NaN</td>\n",
       "      <td>NaN</td>\n",
       "      <td>NaN</td>\n",
       "    </tr>\n",
       "  </tbody>\n",
       "</table>\n",
       "</div>"
      ],
      "text/plain": [
       "  Diagnosis InitialPCRDiagnosis   Age Sex  neutrophil  \\\n",
       "0      H1N1                 NaN  67.0   F         NaN   \n",
       "1      H1N1                 NaN  29.0   M         NaN   \n",
       "2      H1N1                 NaN  22.0   F         NaN   \n",
       "3      H1N1                 NaN  20.0   F         NaN   \n",
       "4      H1N1                 NaN  21.0   M         NaN   \n",
       "\n",
       "   serumLevelsOfWhiteBloodCell  lymphocytes CReactiveProteinLevels  \\\n",
       "0                          NaN          NaN                    NaN   \n",
       "1                          NaN          NaN                    NaN   \n",
       "2                          NaN          NaN                    NaN   \n",
       "3                          NaN          NaN                    NaN   \n",
       "4                          NaN          NaN                    NaN   \n",
       "\n",
       "   DurationOfIllness CTscanResults RiskFactors GroundGlassOpacity Diarrhea  \\\n",
       "0                NaN           NaN         NaN                NaN      NaN   \n",
       "1                NaN           NaN         NaN                NaN      NaN   \n",
       "2                NaN           NaN         NaN                NaN      NaN   \n",
       "3                NaN           NaN      immuno                NaN      NaN   \n",
       "4                NaN           NaN         NaN                NaN      NaN   \n",
       "\n",
       "  Fever Coughing ShortnessOfBreath SoreThroat NauseaVomitting  Temperature  \\\n",
       "0   Yes      Yes               NaN         No             NaN    38.111111   \n",
       "1   NaN      NaN               NaN        NaN             NaN          NaN   \n",
       "2   NaN      NaN               NaN        NaN             NaN          NaN   \n",
       "3   Yes      Yes               NaN         No             NaN    36.555556   \n",
       "4   NaN      NaN               NaN        NaN             NaN          NaN   \n",
       "\n",
       "  Fatigue  \n",
       "0      No  \n",
       "1     NaN  \n",
       "2     NaN  \n",
       "3     Yes  \n",
       "4     NaN  "
      ]
     },
     "execution_count": 40,
     "metadata": {},
     "output_type": "execute_result"
    }
   ],
   "source": [
    "covid_flu = pd.read_csv(\"./data/covid_flu.csv\")\n",
    "covid_flu.head()"
   ]
  },
  {
   "cell_type": "code",
   "execution_count": 11,
   "id": "c91e2383",
   "metadata": {},
   "outputs": [
    {
     "data": {
      "text/plain": [
       "Diagnosis                       0.000000\n",
       "InitialPCRDiagnosis            92.982456\n",
       "Age                             1.889339\n",
       "Sex                             5.128205\n",
       "neutrophil                     93.049933\n",
       "serumLevelsOfWhiteBloodCell    89.811066\n",
       "lymphocytes                    89.473684\n",
       "CReactiveProteinLevels         90.755735\n",
       "DurationOfIllness              94.129555\n",
       "CTscanResults                  89.271255\n",
       "RiskFactors                    85.897436\n",
       "GroundGlassOpacity             93.724696\n",
       "Diarrhea                       69.635628\n",
       "Fever                          37.719298\n",
       "Coughing                       42.037787\n",
       "ShortnessOfBreath              94.939271\n",
       "SoreThroat                     54.790823\n",
       "NauseaVomitting                71.592443\n",
       "Temperature                    57.624831\n",
       "Fatigue                        64.170040\n",
       "dtype: float64"
      ]
     },
     "execution_count": 11,
     "metadata": {},
     "output_type": "execute_result"
    }
   ],
   "source": [
    "# percent of missing data\n",
    "covid_flu.isnull().mean() * 100 # percent of missing data"
   ]
  },
  {
   "cell_type": "code",
   "execution_count": 12,
   "id": "8e2f9278",
   "metadata": {},
   "outputs": [
    {
     "data": {
      "text/plain": [
       "Diagnosis                       0.000000\n",
       "InitialPCRDiagnosis            92.982456\n",
       "Age                             1.889339\n",
       "Sex                             5.128205\n",
       "neutrophil                     93.049933\n",
       "serumLevelsOfWhiteBloodCell    89.811066\n",
       "lymphocytes                    89.473684\n",
       "CReactiveProteinLevels         90.755735\n",
       "DurationOfIllness              94.129555\n",
       "CTscanResults                  89.271255\n",
       "RiskFactors                    85.897436\n",
       "GroundGlassOpacity             93.724696\n",
       "Diarrhea                       69.635628\n",
       "Fever                          37.719298\n",
       "Coughing                       42.037787\n",
       "ShortnessOfBreath              94.939271\n",
       "SoreThroat                     54.790823\n",
       "NauseaVomitting                71.592443\n",
       "Temperature                    57.624831\n",
       "Fatigue                        64.170040\n",
       "dtype: float64"
      ]
     },
     "execution_count": 12,
     "metadata": {},
     "output_type": "execute_result"
    }
   ],
   "source": [
    "covid_flu.isnull().sum()* 100 / len(covid_flu) # number of missing data"
   ]
  },
  {
   "cell_type": "code",
   "execution_count": 14,
   "id": "f5264660",
   "metadata": {},
   "outputs": [
    {
     "name": "stdout",
     "output_type": "stream",
     "text": [
      "<class 'pandas.core.frame.DataFrame'>\n",
      "RangeIndex: 1482 entries, 0 to 1481\n",
      "Data columns (total 20 columns):\n",
      " #   Column                       Non-Null Count  Dtype  \n",
      "---  ------                       --------------  -----  \n",
      " 0   Diagnosis                    1482 non-null   object \n",
      " 1   InitialPCRDiagnosis          104 non-null    object \n",
      " 2   Age                          1454 non-null   float64\n",
      " 3   Sex                          1406 non-null   object \n",
      " 4   neutrophil                   103 non-null    float64\n",
      " 5   serumLevelsOfWhiteBloodCell  151 non-null    float64\n",
      " 6   lymphocytes                  156 non-null    float64\n",
      " 7   CReactiveProteinLevels       137 non-null    object \n",
      " 8   DurationOfIllness            87 non-null     float64\n",
      " 9   CTscanResults                159 non-null    object \n",
      " 10  RiskFactors                  209 non-null    object \n",
      " 11  GroundGlassOpacity           93 non-null     object \n",
      " 12  Diarrhea                     450 non-null    object \n",
      " 13  Fever                        923 non-null    object \n",
      " 14  Coughing                     859 non-null    object \n",
      " 15  ShortnessOfBreath            75 non-null     object \n",
      " 16  SoreThroat                   670 non-null    object \n",
      " 17  NauseaVomitting              421 non-null    object \n",
      " 18  Temperature                  628 non-null    float64\n",
      " 19  Fatigue                      531 non-null    object \n",
      "dtypes: float64(6), object(14)\n",
      "memory usage: 231.7+ KB\n"
     ]
    }
   ],
   "source": [
    "# columns\n",
    "covid_flu.info()"
   ]
  },
  {
   "cell_type": "code",
   "execution_count": 16,
   "id": "9828bfb1",
   "metadata": {},
   "outputs": [
    {
     "data": {
      "text/plain": [
       "Diagnosis\n",
       "H1N1       72.334683\n",
       "COVID19    27.665317\n",
       "Name: proportion, dtype: float64"
      ]
     },
     "execution_count": 16,
     "metadata": {},
     "output_type": "execute_result"
    }
   ],
   "source": [
    "# categories of diagnosis\n",
    "covid_flu.Diagnosis.value_counts(normalize=True) * 100 # percent of each category"
   ]
  },
  {
   "cell_type": "markdown",
   "id": "f570430b",
   "metadata": {},
   "source": [
    "### Imputing missing values for quanititative variables"
   ]
  },
  {
   "cell_type": "code",
   "execution_count": 17,
   "id": "d0079e55",
   "metadata": {},
   "outputs": [
    {
     "data": {
      "text/plain": [
       "['Age',\n",
       " 'neutrophil',\n",
       " 'serumLevelsOfWhiteBloodCell',\n",
       " 'lymphocytes',\n",
       " 'DurationOfIllness',\n",
       " 'Temperature']"
      ]
     },
     "execution_count": 17,
     "metadata": {},
     "output_type": "execute_result"
    }
   ],
   "source": [
    "numeric_types = ['float16', 'float32', 'float64', 'int16', 'int32', 'int64'] # numeric types\n",
    "numerical_columns = covid_flu.select_dtypes(include=numeric_types).columns.tolist() # select numerical columns\n",
    "numerical_columns"
   ]
  },
  {
   "cell_type": "markdown",
   "id": "3b2a78a3",
   "metadata": {},
   "source": [
    "We can make use of the SimpleImputer class to fill most of the missing values we have."
   ]
  },
  {
   "cell_type": "code",
   "execution_count": 18,
   "id": "e82d65e0",
   "metadata": {},
   "outputs": [],
   "source": [
    "from sklearn.impute  import SimpleImputer # import the imputer\n",
    "num_impute  = SimpleImputer(strategy=\"mean\") # initialize the imputer"
   ]
  },
  {
   "cell_type": "code",
   "execution_count": 19,
   "id": "db0f517f",
   "metadata": {},
   "outputs": [
    {
     "data": {
      "text/html": [
       "<div>\n",
       "<style scoped>\n",
       "    .dataframe tbody tr th:only-of-type {\n",
       "        vertical-align: middle;\n",
       "    }\n",
       "\n",
       "    .dataframe tbody tr th {\n",
       "        vertical-align: top;\n",
       "    }\n",
       "\n",
       "    .dataframe thead th {\n",
       "        text-align: right;\n",
       "    }\n",
       "</style>\n",
       "<table border=\"1\" class=\"dataframe\">\n",
       "  <thead>\n",
       "    <tr style=\"text-align: right;\">\n",
       "      <th></th>\n",
       "      <th>Age</th>\n",
       "      <th>neutrophil</th>\n",
       "      <th>serumLevelsOfWhiteBloodCell</th>\n",
       "      <th>lymphocytes</th>\n",
       "      <th>DurationOfIllness</th>\n",
       "      <th>Temperature</th>\n",
       "    </tr>\n",
       "  </thead>\n",
       "  <tbody>\n",
       "    <tr>\n",
       "      <th>0</th>\n",
       "      <td>67.0</td>\n",
       "      <td>NaN</td>\n",
       "      <td>NaN</td>\n",
       "      <td>NaN</td>\n",
       "      <td>NaN</td>\n",
       "      <td>38.111111</td>\n",
       "    </tr>\n",
       "    <tr>\n",
       "      <th>1</th>\n",
       "      <td>29.0</td>\n",
       "      <td>NaN</td>\n",
       "      <td>NaN</td>\n",
       "      <td>NaN</td>\n",
       "      <td>NaN</td>\n",
       "      <td>NaN</td>\n",
       "    </tr>\n",
       "    <tr>\n",
       "      <th>2</th>\n",
       "      <td>22.0</td>\n",
       "      <td>NaN</td>\n",
       "      <td>NaN</td>\n",
       "      <td>NaN</td>\n",
       "      <td>NaN</td>\n",
       "      <td>NaN</td>\n",
       "    </tr>\n",
       "    <tr>\n",
       "      <th>3</th>\n",
       "      <td>20.0</td>\n",
       "      <td>NaN</td>\n",
       "      <td>NaN</td>\n",
       "      <td>NaN</td>\n",
       "      <td>NaN</td>\n",
       "      <td>36.555556</td>\n",
       "    </tr>\n",
       "    <tr>\n",
       "      <th>4</th>\n",
       "      <td>21.0</td>\n",
       "      <td>NaN</td>\n",
       "      <td>NaN</td>\n",
       "      <td>NaN</td>\n",
       "      <td>NaN</td>\n",
       "      <td>NaN</td>\n",
       "    </tr>\n",
       "  </tbody>\n",
       "</table>\n",
       "</div>"
      ],
      "text/plain": [
       "    Age  neutrophil  serumLevelsOfWhiteBloodCell  lymphocytes  \\\n",
       "0  67.0         NaN                          NaN          NaN   \n",
       "1  29.0         NaN                          NaN          NaN   \n",
       "2  22.0         NaN                          NaN          NaN   \n",
       "3  20.0         NaN                          NaN          NaN   \n",
       "4  21.0         NaN                          NaN          NaN   \n",
       "\n",
       "   DurationOfIllness  Temperature  \n",
       "0                NaN    38.111111  \n",
       "1                NaN          NaN  \n",
       "2                NaN          NaN  \n",
       "3                NaN    36.555556  \n",
       "4                NaN          NaN  "
      ]
     },
     "execution_count": 19,
     "metadata": {},
     "output_type": "execute_result"
    }
   ],
   "source": [
    "# before the imputer\n",
    "covid_flu[numerical_columns].head() # print out the first 5 rows of the numerical columns"
   ]
  },
  {
   "cell_type": "code",
   "execution_count": 20,
   "id": "ae43f09a",
   "metadata": {},
   "outputs": [
    {
     "data": {
      "text/plain": [
       "Age                            26.471040\n",
       "neutrophil                      6.854078\n",
       "serumLevelsOfWhiteBloodCell     6.885159\n",
       "lymphocytes                     1.850154\n",
       "DurationOfIllness              13.988506\n",
       "Temperature                    38.068312\n",
       "dtype: float64"
      ]
     },
     "execution_count": 20,
     "metadata": {},
     "output_type": "execute_result"
    }
   ],
   "source": [
    "# mean before  the imputer\n",
    "covid_flu[numerical_columns].mean() # print out the mean of the numerical columns"
   ]
  },
  {
   "cell_type": "code",
   "execution_count": 21,
   "id": "b5b173da",
   "metadata": {},
   "outputs": [
    {
     "name": "stderr",
     "output_type": "stream",
     "text": [
      "/Users/joelorellana/anaconda3/envs/ML/lib/python3.11/site-packages/sklearn/utils/validation.py:767: FutureWarning: is_sparse is deprecated and will be removed in a future version. Check `isinstance(dtype, pd.SparseDtype)` instead.\n",
      "  if not hasattr(array, \"sparse\") and array.dtypes.apply(is_sparse).any():\n",
      "/Users/joelorellana/anaconda3/envs/ML/lib/python3.11/site-packages/sklearn/utils/validation.py:605: FutureWarning: is_sparse is deprecated and will be removed in a future version. Check `isinstance(dtype, pd.SparseDtype)` instead.\n",
      "  if is_sparse(pd_dtype):\n",
      "/Users/joelorellana/anaconda3/envs/ML/lib/python3.11/site-packages/sklearn/utils/validation.py:614: FutureWarning: is_sparse is deprecated and will be removed in a future version. Check `isinstance(dtype, pd.SparseDtype)` instead.\n",
      "  if is_sparse(pd_dtype) or not is_extension_array_dtype(pd_dtype):\n",
      "/Users/joelorellana/anaconda3/envs/ML/lib/python3.11/site-packages/sklearn/utils/validation.py:767: FutureWarning: is_sparse is deprecated and will be removed in a future version. Check `isinstance(dtype, pd.SparseDtype)` instead.\n",
      "  if not hasattr(array, \"sparse\") and array.dtypes.apply(is_sparse).any():\n",
      "/Users/joelorellana/anaconda3/envs/ML/lib/python3.11/site-packages/sklearn/utils/validation.py:605: FutureWarning: is_sparse is deprecated and will be removed in a future version. Check `isinstance(dtype, pd.SparseDtype)` instead.\n",
      "  if is_sparse(pd_dtype):\n",
      "/Users/joelorellana/anaconda3/envs/ML/lib/python3.11/site-packages/sklearn/utils/validation.py:614: FutureWarning: is_sparse is deprecated and will be removed in a future version. Check `isinstance(dtype, pd.SparseDtype)` instead.\n",
      "  if is_sparse(pd_dtype) or not is_extension_array_dtype(pd_dtype):\n"
     ]
    },
    {
     "data": {
      "text/html": [
       "<div>\n",
       "<style scoped>\n",
       "    .dataframe tbody tr th:only-of-type {\n",
       "        vertical-align: middle;\n",
       "    }\n",
       "\n",
       "    .dataframe tbody tr th {\n",
       "        vertical-align: top;\n",
       "    }\n",
       "\n",
       "    .dataframe thead th {\n",
       "        text-align: right;\n",
       "    }\n",
       "</style>\n",
       "<table border=\"1\" class=\"dataframe\">\n",
       "  <thead>\n",
       "    <tr style=\"text-align: right;\">\n",
       "      <th></th>\n",
       "      <th>Age</th>\n",
       "      <th>neutrophil</th>\n",
       "      <th>serumLevelsOfWhiteBloodCell</th>\n",
       "      <th>lymphocytes</th>\n",
       "      <th>DurationOfIllness</th>\n",
       "      <th>Temperature</th>\n",
       "    </tr>\n",
       "  </thead>\n",
       "  <tbody>\n",
       "    <tr>\n",
       "      <th>0</th>\n",
       "      <td>67.0</td>\n",
       "      <td>6.854078</td>\n",
       "      <td>6.885159</td>\n",
       "      <td>1.850154</td>\n",
       "      <td>13.988506</td>\n",
       "      <td>38.111111</td>\n",
       "    </tr>\n",
       "    <tr>\n",
       "      <th>1</th>\n",
       "      <td>29.0</td>\n",
       "      <td>6.854078</td>\n",
       "      <td>6.885159</td>\n",
       "      <td>1.850154</td>\n",
       "      <td>13.988506</td>\n",
       "      <td>38.068312</td>\n",
       "    </tr>\n",
       "    <tr>\n",
       "      <th>2</th>\n",
       "      <td>22.0</td>\n",
       "      <td>6.854078</td>\n",
       "      <td>6.885159</td>\n",
       "      <td>1.850154</td>\n",
       "      <td>13.988506</td>\n",
       "      <td>38.068312</td>\n",
       "    </tr>\n",
       "    <tr>\n",
       "      <th>3</th>\n",
       "      <td>20.0</td>\n",
       "      <td>6.854078</td>\n",
       "      <td>6.885159</td>\n",
       "      <td>1.850154</td>\n",
       "      <td>13.988506</td>\n",
       "      <td>36.555556</td>\n",
       "    </tr>\n",
       "    <tr>\n",
       "      <th>4</th>\n",
       "      <td>21.0</td>\n",
       "      <td>6.854078</td>\n",
       "      <td>6.885159</td>\n",
       "      <td>1.850154</td>\n",
       "      <td>13.988506</td>\n",
       "      <td>38.068312</td>\n",
       "    </tr>\n",
       "  </tbody>\n",
       "</table>\n",
       "</div>"
      ],
      "text/plain": [
       "    Age  neutrophil  serumLevelsOfWhiteBloodCell  lymphocytes  \\\n",
       "0  67.0    6.854078                     6.885159     1.850154   \n",
       "1  29.0    6.854078                     6.885159     1.850154   \n",
       "2  22.0    6.854078                     6.885159     1.850154   \n",
       "3  20.0    6.854078                     6.885159     1.850154   \n",
       "4  21.0    6.854078                     6.885159     1.850154   \n",
       "\n",
       "   DurationOfIllness  Temperature  \n",
       "0          13.988506    38.111111  \n",
       "1          13.988506    38.068312  \n",
       "2          13.988506    38.068312  \n",
       "3          13.988506    36.555556  \n",
       "4          13.988506    38.068312  "
      ]
     },
     "execution_count": 21,
     "metadata": {},
     "output_type": "execute_result"
    }
   ],
   "source": [
    "# replace with mean\n",
    "covid_flu[numerical_columns] = num_impute.fit_transform(covid_flu[numerical_columns]) # replace with mean\n",
    "covid_flu[numerical_columns].head() # print out the first 5 rows of the numerical columns"
   ]
  },
  {
   "cell_type": "markdown",
   "id": "98c74c25",
   "metadata": {},
   "source": [
    "### END-OF-TAIL IMPUTATION\n",
    "For normally distributed or skewed data"
   ]
  },
  {
   "cell_type": "code",
   "execution_count": 24,
   "id": "820c5d2e",
   "metadata": {},
   "outputs": [
    {
     "data": {
      "text/plain": [
       "<Axes: title={'center': 'Histogram of Lymphocytes'}, xlabel='cells/uL', ylabel='Frequency'>"
      ]
     },
     "execution_count": 24,
     "metadata": {},
     "output_type": "execute_result"
    },
    {
     "data": {
      "image/png": "[encoded data removed]",
      "text/plain": [
       "<Figure size 640x480 with 1 Axes>"
      ]
     },
     "metadata": {},
     "output_type": "display_data"
    }
   ],
   "source": [
    "# looking at the original histogram for lymphocytes\n",
    "covid_flu.lymphocytes.plot(\n",
    "title=\"Histogram of Lymphocytes\", # title of the plot\n",
    "xlabel='cells/uL',\n",
    "kind=\"hist\") # type of plot"
   ]
  },
  {
   "cell_type": "code",
   "execution_count": 28,
   "id": "2e006861",
   "metadata": {},
   "outputs": [
    {
     "data": {
      "text/plain": [
       "<Axes: title={'center': 'Histogram of Lymphocytes'}, xlabel='cells/uL', ylabel='Frequency'>"
      ]
     },
     "execution_count": 28,
     "metadata": {},
     "output_type": "execute_result"
    },
    {
     "data": {
      "image/png": "[encoded data removed]",
      "text/plain": [
       "<Figure size 640x480 with 1 Axes>"
      ]
     },
     "metadata": {},
     "output_type": "display_data"
    }
   ],
   "source": [
    "# IMPORT OUR END-OF-TAIL IMPUTER\n",
    "from feature_engine.imputation import EndTailImputer\n",
    "EndTailImputer().fit_transform(covid_flu[[\"lymphocytes\"]]).plot(\n",
    "title=\"Histogram of Lymphocytes\", # title of the plot\n",
    "xlabel='cells/uL',\n",
    "kind=\"hist\") # type of plot"
   ]
  },
  {
   "cell_type": "code",
   "execution_count": 29,
   "id": "c7b80673",
   "metadata": {},
   "outputs": [
    {
     "data": {
      "text/plain": [
       "15.39"
      ]
     },
     "execution_count": 29,
     "metadata": {},
     "output_type": "execute_result"
    }
   ],
   "source": [
    "8.34 + 2.35 * 3"
   ]
  },
  {
   "cell_type": "markdown",
   "id": "2abcc132",
   "metadata": {},
   "source": [
    "### IMPUTING MISSING QUALITATIVE DATA"
   ]
  },
  {
   "cell_type": "code",
   "execution_count": 35,
   "id": "fb1e37c3",
   "metadata": {},
   "outputs": [
    {
     "data": {
      "text/plain": [
       "['Diagnosis',\n",
       " 'InitialPCRDiagnosis',\n",
       " 'Sex',\n",
       " 'CReactiveProteinLevels',\n",
       " 'CTscanResults',\n",
       " 'RiskFactors',\n",
       " 'GroundGlassOpacity',\n",
       " 'Diarrhea',\n",
       " 'Fever',\n",
       " 'Coughing',\n",
       " 'ShortnessOfBreath',\n",
       " 'SoreThroat',\n",
       " 'NauseaVomitting',\n",
       " 'Fatigue']"
      ]
     },
     "execution_count": 35,
     "metadata": {},
     "output_type": "execute_result"
    }
   ],
   "source": [
    "categorical_types =  ['O'] # categorical types\n",
    "categorical_columns = covid_flu.select_dtypes(include=categorical_types).columns.tolist() # select categorical columns\n",
    "categorical_columns"
   ]
  },
  {
   "cell_type": "code",
   "execution_count": 36,
   "id": "083873f0",
   "metadata": {},
   "outputs": [],
   "source": [
    "categorical_columns.remove('Diagnosis') # remove the diagnosis column because it is not a feature in our ML model"
   ]
  },
  {
   "cell_type": "code",
   "execution_count": 37,
   "id": "e78ebb2c",
   "metadata": {},
   "outputs": [
    {
     "name": "stdout",
     "output_type": "stream",
     "text": [
      "InitialPCRDiagnosis\n",
      "NaN    1378\n",
      "Yes     100\n",
      "No        4\n",
      "Name: count, dtype: int64\n",
      "\n",
      "Sex\n",
      "M      748\n",
      "F      658\n",
      "NaN     76\n",
      "Name: count, dtype: int64\n",
      "\n",
      "CReactiveProteinLevels\n",
      "NaN           1345\n",
      "8                3\n",
      "0.5              3\n",
      "15               3\n",
      "111              2\n",
      "              ... \n",
      "5.78             1\n",
      "67.62            1\n",
      "13.2 mg/dL       1\n",
      "21.27            1\n",
      "0.6              1\n",
      "Name: count, Length: 121, dtype: int64\n",
      "\n",
      "CTscanResults\n",
      "NaN    1323\n",
      "Yes     144\n",
      "No       15\n",
      "Name: count, dtype: int64\n",
      "\n",
      "RiskFactors\n",
      "NaN                                                                   1273\n",
      "asthma                                                                  36\n",
      "pneumonia                                                               21\n",
      "immuno                                                                  21\n",
      "diabetes                                                                16\n",
      "                                                                      ... \n",
      "diabetes, Hypertension                                                   1\n",
      "Hypertension, Heart Disease, chronic obstructive pulmonary disease       1\n",
      "rheumatoid arthritis                                                     1\n",
      "hematological disease, immuno, Renal Disease                             1\n",
      "Lung Disease                                                             1\n",
      "Name: count, Length: 64, dtype: int64\n",
      "\n",
      "GroundGlassOpacity\n",
      "NaN    1389\n",
      "Yes      90\n",
      "No        3\n",
      "Name: count, dtype: int64\n",
      "\n",
      "Diarrhea\n",
      "NaN    1032\n",
      "No      340\n",
      "Yes     110\n",
      "Name: count, dtype: int64\n",
      "\n",
      "Fever\n",
      "Yes    777\n",
      "NaN    559\n",
      "No     146\n",
      "Name: count, dtype: int64\n",
      "\n",
      "Coughing\n",
      "Yes    745\n",
      "NaN    623\n",
      "No     114\n",
      "Name: count, dtype: int64\n",
      "\n",
      "ShortnessOfBreath\n",
      "NaN    1407\n",
      "Yes      45\n",
      "No       30\n",
      "Name: count, dtype: int64\n",
      "\n",
      "SoreThroat\n",
      "NaN    812\n",
      "Yes    407\n",
      "No     263\n",
      "Name: count, dtype: int64\n",
      "\n",
      "NauseaVomitting\n",
      "NaN    1061\n",
      "No      319\n",
      "Yes     102\n",
      "Name: count, dtype: int64\n",
      "\n",
      "Fatigue\n",
      "NaN    951\n",
      "Yes    348\n",
      "No     183\n",
      "Name: count, dtype: int64\n",
      "\n"
     ]
    }
   ],
   "source": [
    "for column in  categorical_columns: # loop over the categorical columns\n",
    "    print(covid_flu[column].value_counts(dropna=False)) # print out the value counts for the column\n",
    "    print() # print out a blank line"
   ]
  },
  {
   "cell_type": "code",
   "execution_count": 41,
   "id": "062d2e1f",
   "metadata": {},
   "outputs": [
    {
     "data": {
      "text/plain": [
       "0    False\n",
       "1     True\n",
       "2    False\n",
       "3    False\n",
       "4     True\n",
       "Name: Sex, dtype: object"
      ]
     },
     "execution_count": 41,
     "metadata": {},
     "output_type": "execute_result"
    }
   ],
   "source": [
    "# Feature Improvement\n",
    "covid_flu.Sex = covid_flu.Sex.map({\"M\": True, \"F\": False}) # map the sex column to 1 for male and 0 for female\n",
    "covid_flu.Sex[0:5] # print out the first 5 rows of the sex column"
   ]
  },
  {
   "cell_type": "markdown",
   "id": "467c7282",
   "metadata": {},
   "source": [
    "### 1. MOST-FREQUENT VALUE IMPUTATION"
   ]
  },
  {
   "cell_type": "code",
   "execution_count": 42,
   "id": "dddc140b",
   "metadata": {},
   "outputs": [
    {
     "data": {
      "text/plain": [
       "0    Yes\n",
       "1    NaN\n",
       "2    NaN\n",
       "3    Yes\n",
       "4    NaN\n",
       "Name: Coughing, dtype: object"
      ]
     },
     "execution_count": 42,
     "metadata": {},
     "output_type": "execute_result"
    }
   ],
   "source": [
    "cat_impute = SimpleImputer(strategy=\"most_frequent\") # initialize the imputer\n",
    "covid_flu.Coughing.head()"
   ]
  },
  {
   "cell_type": "code",
   "execution_count": 44,
   "id": "e39d9fc7",
   "metadata": {},
   "outputs": [
    {
     "name": "stderr",
     "output_type": "stream",
     "text": [
      "/Users/joelorellana/anaconda3/envs/ML/lib/python3.11/site-packages/sklearn/utils/validation.py:767: FutureWarning: is_sparse is deprecated and will be removed in a future version. Check `isinstance(dtype, pd.SparseDtype)` instead.\n",
      "  if not hasattr(array, \"sparse\") and array.dtypes.apply(is_sparse).any():\n",
      "/Users/joelorellana/anaconda3/envs/ML/lib/python3.11/site-packages/sklearn/utils/validation.py:605: FutureWarning: is_sparse is deprecated and will be removed in a future version. Check `isinstance(dtype, pd.SparseDtype)` instead.\n",
      "  if is_sparse(pd_dtype):\n",
      "/Users/joelorellana/anaconda3/envs/ML/lib/python3.11/site-packages/sklearn/utils/validation.py:614: FutureWarning: is_sparse is deprecated and will be removed in a future version. Check `isinstance(dtype, pd.SparseDtype)` instead.\n",
      "  if is_sparse(pd_dtype) or not is_extension_array_dtype(pd_dtype):\n",
      "/Users/joelorellana/anaconda3/envs/ML/lib/python3.11/site-packages/sklearn/utils/validation.py:767: FutureWarning: is_sparse is deprecated and will be removed in a future version. Check `isinstance(dtype, pd.SparseDtype)` instead.\n",
      "  if not hasattr(array, \"sparse\") and array.dtypes.apply(is_sparse).any():\n",
      "/Users/joelorellana/anaconda3/envs/ML/lib/python3.11/site-packages/sklearn/utils/validation.py:605: FutureWarning: is_sparse is deprecated and will be removed in a future version. Check `isinstance(dtype, pd.SparseDtype)` instead.\n",
      "  if is_sparse(pd_dtype):\n",
      "/Users/joelorellana/anaconda3/envs/ML/lib/python3.11/site-packages/sklearn/utils/validation.py:614: FutureWarning: is_sparse is deprecated and will be removed in a future version. Check `isinstance(dtype, pd.SparseDtype)` instead.\n",
      "  if is_sparse(pd_dtype) or not is_extension_array_dtype(pd_dtype):\n"
     ]
    },
    {
     "data": {
      "text/plain": [
       "array([['Yes'],\n",
       "       ['Yes'],\n",
       "       ['Yes'],\n",
       "       ...,\n",
       "       ['Yes'],\n",
       "       ['Yes'],\n",
       "       ['Yes']], dtype=object)"
      ]
     },
     "execution_count": 44,
     "metadata": {},
     "output_type": "execute_result"
    }
   ],
   "source": [
    "cat_impute.fit_transform(covid_flu[[\"Coughing\"]])"
   ]
  },
  {
   "cell_type": "markdown",
   "id": "08cdb592",
   "metadata": {},
   "source": [
    "### 2. ARBITRARY CATEGORY IMPUTATION"
   ]
  },
  {
   "cell_type": "code",
   "execution_count": null,
   "id": "a6548219",
   "metadata": {},
   "outputs": [],
   "source": []
  }
 ],
 "metadata": {
  "kernelspec": {
   "display_name": "Python 3 (ipykernel)",
   "language": "python",
   "name": "python3"
  },
  "language_info": {
   "codemirror_mode": {
    "name": "ipython",
    "version": 3
   },
   "file_extension": ".py",
   "mimetype": "text/x-python",
   "name": "python",
   "nbconvert_exporter": "python",
   "pygments_lexer": "ipython3",
   "version": "3.11.5"
  }
 },
 "nbformat": 4,
 "nbformat_minor": 5
}
